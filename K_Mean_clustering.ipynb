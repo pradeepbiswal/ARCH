{
  "nbformat": 4,
  "nbformat_minor": 0,
  "metadata": {
    "colab": {
      "provenance": [],
      "authorship_tag": "ABX9TyM6QGxJ3h/ZJmkf+ZcDwkMN",
      "include_colab_link": true
    },
    "kernelspec": {
      "name": "python3",
      "display_name": "Python 3"
    },
    "language_info": {
      "name": "python"
    }
  },
  "cells": [
    {
      "cell_type": "markdown",
      "metadata": {
        "id": "view-in-github",
        "colab_type": "text"
      },
      "source": [
        "<a href=\"https://colab.research.google.com/github/pradeepbiswal/ARCH/blob/main/K_Mean_clustering.ipynb\" target=\"_parent\"><img src=\"https://colab.research.google.com/assets/colab-badge.svg\" alt=\"Open In Colab\"/></a>"
      ]
    },
    {
      "cell_type": "code",
      "execution_count": 1,
      "metadata": {
        "id": "OqyLqAYs3vbo"
      },
      "outputs": [],
      "source": [
        "import pandas as pd\n",
        "import numpy as np\n",
        "import matplotlib.pyplot as plt\n",
        "from sklearn.cluster import KMeans\n",
        "from sklearn.preprocessing import StandardScaler\n"
      ]
    },
    {
      "cell_type": "code",
      "source": [
        "#create DataFrame\n",
        "df = pd.DataFrame({'points': [18, np.nan, 19, 14, 14, 11, 20, 28, 30, 31,\n",
        "                              35, 33, 29, 25, 25, 27, 29, 30, 19, 23],\n",
        "                   'assists': [3, 3, 4, 5, 4, 7, 8, 7, 6, 9, 12, 14,\n",
        "                               np.nan, 9, 4, 3, 4, 12, 15, 11],\n",
        "                   'rebounds': [15, 14, 14, 10, 8, 14, 13, 9, 5, 4,\n",
        "                                11, 6, 5, 5, 3, 8, 12, 7, 6, 5]})\n",
        "\n",
        "#view first five rows of DataFrame\n",
        "print(df.head())"
      ],
      "metadata": {
        "colab": {
          "base_uri": "https://localhost:8080/"
        },
        "id": "5NHwHZcA9XzX",
        "outputId": "d2874040-b0d6-487d-96cc-cb14516f9a40"
      },
      "execution_count": 2,
      "outputs": [
        {
          "output_type": "stream",
          "name": "stdout",
          "text": [
            "   points  assists  rebounds\n",
            "0    18.0      3.0        15\n",
            "1     NaN      3.0        14\n",
            "2    19.0      4.0        14\n",
            "3    14.0      5.0        10\n",
            "4    14.0      4.0         8\n"
          ]
        }
      ]
    },
    {
      "cell_type": "code",
      "source": [
        "#drop rows with NA values in any columns\n",
        "df = df.dropna()\n",
        "\n",
        "#create scaled DataFrame where each variable has mean of 0 and standard dev of 1\n",
        "scaled_df = StandardScaler().fit_transform(df)\n",
        "\n",
        "#view first five rows of scaled DataFrame\n",
        "print(scaled_df[:5])\n"
      ],
      "metadata": {
        "colab": {
          "base_uri": "https://localhost:8080/"
        },
        "id": "dBj-jooc9knY",
        "outputId": "782c7dc9-9b3a-4fdd-a22e-e49d8e5286b8"
      },
      "execution_count": 3,
      "outputs": [
        {
          "output_type": "stream",
          "name": "stdout",
          "text": [
            "[[-0.86660275 -1.22683918  1.72722524]\n",
            " [-0.72081911 -0.96077767  1.45687694]\n",
            " [-1.44973731 -0.69471616  0.37548375]\n",
            " [-1.44973731 -0.96077767 -0.16521285]\n",
            " [-1.88708823 -0.16259314  1.45687694]]\n"
          ]
        }
      ]
    },
    {
      "cell_type": "code",
      "source": [
        "#initialize kmeans parameters\n",
        "kmeans_kwargs = {\n",
        "\"init\": \"random\",\n",
        "\"n_init\": 10,\n",
        "\"random_state\": 1,\n",
        "}\n",
        "\n",
        "#create list to hold SSE values for each k\n",
        "sse = []\n",
        "for k in range(1, 11):\n",
        "    kmeans = KMeans(n_clusters=k, **kmeans_kwargs)\n",
        "    kmeans.fit(scaled_df)\n",
        "    sse.append(kmeans.inertia_)\n",
        "\n",
        "#visualize results\n",
        "plt.plot(range(1, 11), sse)\n",
        "plt.xticks(range(1, 11))\n",
        "plt.xlabel(\"Number of Clusters\")\n",
        "plt.ylabel(\"SSE\")\n",
        "plt.show()"
      ],
      "metadata": {
        "colab": {
          "base_uri": "https://localhost:8080/",
          "height": 449
        },
        "id": "0f-0-voM9m1d",
        "outputId": "18ac89c6-e029-4048-ffc8-86aa3821b29a"
      },
      "execution_count": 4,
      "outputs": [
        {
          "output_type": "display_data",
          "data": {
            "text/plain": [
              "<Figure size 640x480 with 1 Axes>"
            ],
            "image/png": "[encoded data removed]"
          },
          "metadata": {}
        }
      ]
    },
    {
      "cell_type": "code",
      "source": [
        "#instantiate the k-means class, using optimal number of clusters\n",
        "kmeans = KMeans(init=\"random\", n_clusters=3, n_init=10, random_state=1)\n",
        "\n",
        "#fit k-means algorithm to data\n",
        "kmeans.fit(scaled_df)\n",
        "\n",
        "#view cluster assignments for each observation\n",
        "kmeans.labels_\n",
        "\n"
      ],
      "metadata": {
        "colab": {
          "base_uri": "https://localhost:8080/"
        },
        "id": "QIV21EbG-H-Y",
        "outputId": "ce082b67-bbb7-4cb6-af70-779e9b82608c"
      },
      "execution_count": 6,
      "outputs": [
        {
          "output_type": "execute_result",
          "data": {
            "text/plain": [
              "array([1, 1, 1, 1, 1, 1, 2, 2, 0, 0, 0, 0, 2, 2, 2, 0, 0, 0], dtype=int32)"
            ]
          },
          "metadata": {},
          "execution_count": 6
        }
      ]
    },
    {
      "cell_type": "code",
      "source": [
        "#append cluster assingments to original DataFrame\n",
        "df['cluster'] = kmeans.labels_\n",
        "\n",
        "#view updated DataFrame\n",
        "print(df)\n"
      ],
      "metadata": {
        "colab": {
          "base_uri": "https://localhost:8080/"
        },
        "id": "b2XbVi1B-YYe",
        "outputId": "78b7df4d-0b8f-4345-952c-ece33e651f1a"
      },
      "execution_count": 7,
      "outputs": [
        {
          "output_type": "stream",
          "name": "stdout",
          "text": [
            "    points  assists  rebounds  cluster\n",
            "0     18.0      3.0        15        1\n",
            "2     19.0      4.0        14        1\n",
            "3     14.0      5.0        10        1\n",
            "4     14.0      4.0         8        1\n",
            "5     11.0      7.0        14        1\n",
            "6     20.0      8.0        13        1\n",
            "7     28.0      7.0         9        2\n",
            "8     30.0      6.0         5        2\n",
            "9     31.0      9.0         4        0\n",
            "10    35.0     12.0        11        0\n",
            "11    33.0     14.0         6        0\n",
            "13    25.0      9.0         5        0\n",
            "14    25.0      4.0         3        2\n",
            "15    27.0      3.0         8        2\n",
            "16    29.0      4.0        12        2\n",
            "17    30.0     12.0         7        0\n",
            "18    19.0     15.0         6        0\n",
            "19    23.0     11.0         5        0\n"
          ]
        }
      ]
    }
  ]
}